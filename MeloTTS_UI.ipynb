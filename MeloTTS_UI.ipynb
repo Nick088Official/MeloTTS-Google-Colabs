{
  "nbformat": 4,
  "nbformat_minor": 0,
  "metadata": {
    "colab": {
      "provenance": [],
      "gpuType": "T4",
      "authorship_tag": "ABX9TyMiMZ0JXmd0Sc3JkGS/BKPJ",
      "include_colab_link": true
    },
    "kernelspec": {
      "name": "python3",
      "display_name": "Python 3"
    },
    "language_info": {
      "name": "python"
    },
    "accelerator": "GPU"
  },
  "cells": [
    {
      "cell_type": "markdown",
      "metadata": {
        "id": "view-in-github",
        "colab_type": "text"
      },
      "source": [
        "<a href=\"https://colab.research.google.com/github/Nick088Official/MeloTTS-Google-Colabs/blob/main/MeloTTS_UI.ipynb\" target=\"_parent\"><img src=\"https://colab.research.google.com/assets/colab-badge.svg\" alt=\"Open In Colab\"/></a>"
      ]
    },
    {
      "cell_type": "markdown",
      "source": [
        "# MeloTTS UI Google Colab\n",
        "\n",
        "Made by [Nick088](https://linktr.ee/Nick088)"
      ],
      "metadata": {
        "id": "jzqA6y2epqAk"
      }
    },
    {
      "cell_type": "code",
      "execution_count": null,
      "metadata": {
        "cellView": "form",
        "id": "-USTI9iwb5Dw"
      },
      "outputs": [],
      "source": [
        "#@title Install MeloTTS\n",
        "\n",
        "!git clone https://github.com/myshell-ai/MeloTTS.git\n",
        "%cd MeloTTS\n",
        "!pip install -e .\n",
        "!python -m unidic download"
      ]
    },
    {
      "cell_type": "code",
      "source": [
        "#@title Run MeloTTS UI\n",
        "\n",
        "!melo-ui --share"
      ],
      "metadata": {
        "cellView": "form",
        "id": "lzEI4Qwsd4o7"
      },
      "execution_count": null,
      "outputs": []
    }
  ]
}
{
  "nbformat": 4,
  "nbformat_minor": 0,
  "metadata": {
    "colab": {
      "provenance": [],
      "gpuType": "T4",
      "authorship_tag": "ABX9TyP5SpE8WXwNU7a//2q6B4nS",
      "include_colab_link": true
    },
    "kernelspec": {
      "name": "python3",
      "display_name": "Python 3"
    },
    "language_info": {
      "name": "python"
    },
    "accelerator": "GPU"
  },
  "cells": [
    {
      "cell_type": "markdown",
      "metadata": {
        "id": "view-in-github",
        "colab_type": "text"
      },
      "source": [
        "<a href=\"https://colab.research.google.com/github/Nick088Official/MeloTTS-Google-Colabs/blob/main/MeloTTS_NO_UI.ipynb\" target=\"_parent\"><img src=\"https://colab.research.google.com/assets/colab-badge.svg\" alt=\"Open In Colab\"/></a>"
      ]
    },
    {
      "cell_type": "markdown",
      "source": [
        "# MeloTTS NO UI Google Colab\n",
        "\n",
        "Made by [Nick088](https://linktr.ee/Nick088)"
      ],
      "metadata": {
        "id": "jzqA6y2epqAk"
      }
    },
    {
      "cell_type": "code",
      "execution_count": null,
      "metadata": {
        "cellView": "form",
        "id": "-USTI9iwb5Dw"
      },
      "outputs": [],
      "source": [
        "#@title Install MeloTTS\n",
        "\n",
        "!git clone https://github.com/myshell-ai/MeloTTS.git\n",
        "%cd MeloTTS\n",
        "!pip install -e .\n",
        "!python -m unidic download\n",
        "\n",
        "from melo.api import TTS\n",
        "from IPython.display import Audio"
      ]
    },
    {
      "cell_type": "code",
      "source": [
        "#@title Run MeloTTS\n",
        "#@markdown CPU is sufficient for real-time inference.\n",
        "\n",
        "device = 'auto' # Will automatically use GPU if available\n",
        "\n",
        "text = \"Did you ever hear a folk tale about a giant turtle?\" #@param {type:\"string\"}\n",
        "\n",
        "language_dict = {\n",
        "    \"English\": \"EN\",\n",
        "    \"Spanish\": \"ES\",\n",
        "    \"French\": \"FR\",\n",
        "    \"Chinese\": \"ZH\",\n",
        "    \"Japanese\": \"JP\",\n",
        "    \"Korean\": \"KR\"\n",
        "}\n",
        "\n",
        "\n",
        "#@markdown Check that the Language and the Speaker are matched. For example if you select English as the language you can select Default_Accent or American,etc.  If you select Spanish you gotta select the Spanish Speaker\n",
        "\n",
        "language = \"English\" #@param ['English', 'Spanish', 'French', 'Chinese', 'Japanese', 'Korean']\n",
        "\n",
        "language_code = language_dict[language]\n",
        "\n",
        "model = TTS(language=language_code, device=device)\n",
        "\n",
        "speakers_dict = {\n",
        "    \"Default_Accent\": \"EN-Default\",\n",
        "    \"American_Accent\": \"EN-US\",\n",
        "    \"British_Accent\": \"EN-BR\",\n",
        "    \"Indian_Accent\": \"EN-IN\",\n",
        "    \"Australian_Accent\": \"EN-AU\",\n",
        "    \"Spanish_Accent\": \"ES\",\n",
        "    \"French_Accent\": \"FR\",\n",
        "    \"Chinese_Accent\": \"ZH\",\n",
        "    \"Japanese_Accent\": \"JP\",\n",
        "    \"Korean_Accent\": \"KO\"\n",
        "}\n",
        "\n",
        "Speaker = \"Default_Accent\" #@param ['Default_Accent', 'American_Accent', 'British_Accent', 'Indian_Accent', 'Australian_Accent', 'Spanish_Accent', 'French_Accent', 'Chinese_Accent', 'Japanese_Accent', 'Korean_Accent']\n",
        "\n",
        "speaker_ids = model.hps.data.spk2id\n",
        "selected_speaker_id = speaker_ids[speakers_dict[Speaker]]\n",
        "\n",
        "speed = 1 #@param {type:\"integer\"}\n",
        "\n",
        "output_path = 'generated_MeloTTS.wav'\n",
        "model.tts_to_file(text, selected_speaker_id, output_path, speed=speed)\n",
        "\n",
        "\n",
        "Audio('generated_MeloTTS.wav', autoplay=True)"
      ],
      "metadata": {
        "cellView": "form",
        "id": "lzEI4Qwsd4o7"
      },
      "execution_count": null,
      "outputs": []
    }
  ]
}